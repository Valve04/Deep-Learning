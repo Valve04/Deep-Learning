{
 "cells": [
  {
   "cell_type": "code",
   "execution_count": 1,
   "metadata": {},
   "outputs": [],
   "source": [
    "import pandas as pd\n",
    "import numpy as np "
   ]
  },
  {
   "cell_type": "markdown",
   "metadata": {},
   "source": [
    "### What is Deep Learning ?\n",
    "\n",
    "#### Deep learning is a subset of Machine Learning that has network which are cappable of learning from data that is unstructured or unlabeled and \n",
    "#### work similar to the functioning of a human brain. \n",
    "#### ------------------------------"
   ]
  },
  {
   "cell_type": "markdown",
   "metadata": {},
   "source": [
    "AI : Abilirt of a machine to imitate interligent human behavior\n",
    "\n",
    "ML : Application of AI that allows a system to automatically learn and improve from experience\n",
    "\n",
    "DL : Applocation of ML that uess complex algorithms and deep neural nets to train a model\n",
    "\n",
    "#### ------------------------------"
   ]
  },
  {
   "cell_type": "markdown",
   "metadata": {},
   "source": [
    "Why do we need Deep Learning ?\n",
    "\n",
    "-Works with unstructured data \n",
    "\n",
    "-Handle complex operations\n",
    "\n",
    "-Feature Extranction\n",
    "\n",
    "-Achieve best performance\n",
    "\n",
    "#### ------------------------------"
   ]
  },
  {
   "cell_type": "markdown",
   "metadata": {},
   "source": [
    "What is a Neural Network ?\n",
    "\n",
    "Neural Netwotks are modeled after biological neural networks that allow computers to learn and interact like humans do. It has interconnected neurons with dendrites that receive input, and based on those input, it produces an electric signal i.e. output through the axon.\n",
    "\n",
    "Neural Network has interconnected neurons that receive some inputs, processes those inputs in layers to produce the output.\n",
    "#### ------------------------------"
   ]
  },
  {
   "cell_type": "markdown",
   "metadata": {},
   "source": [
    "![](../Pictures/Capture.png)"
   ]
  },
  {
   "cell_type": "markdown",
   "metadata": {},
   "source": [
    "What is a Perceptron ?\n",
    "\n",
    "A Perceptron is the best basic part of a neural network. It represents a single neuron of a human brain and is used for binary classifiers."
   ]
  },
  {
   "cell_type": "markdown",
   "metadata": {},
   "source": [
    "![](../Pictures/Capture1.PNG)"
   ]
  },
  {
   "cell_type": "markdown",
   "metadata": {},
   "source": [
    "Input are multiplied with the weights and a summation is performed, plus a bias is added.\n",
    "\n",
    "![](../Pictures/Capture3.PNG)"
   ]
  },
  {
   "cell_type": "markdown",
   "metadata": {},
   "source": [
    "The weighted sum of input is passed to an activation function to datermine if a neuron will fire or not.\n",
    "\n",
    "![](../Pictures/Capture4.PNG)"
   ]
  },
  {
   "cell_type": "markdown",
   "metadata": {},
   "source": [
    "Perceptron receives input signals and if the sum of the input signals exceeds a certain threshold value, it either outputs a signal or does not return an output.\n",
    "\n",
    "![](../Pictures/Capture5.PNG)"
   ]
  },
  {
   "cell_type": "markdown",
   "metadata": {},
   "source": [
    "The error in the output is backpropagated and weights are updated to minimize the error.\n",
    "\n",
    "![](../Pictures/Capture6.PNG)"
   ]
  },
  {
   "cell_type": "markdown",
   "metadata": {},
   "source": [
    "Repeat steps 1 to 4 in order to generate the desired output"
   ]
  },
  {
   "cell_type": "markdown",
   "metadata": {},
   "source": [
    "Implementing logic gates using perceptron.\n",
    "\n",
    "In 1943, neuroscientist Warren McCulloch and logician Walter Pitts published a paper showing how neurons could implement the three logical functions(AND , OR, XOR). The neurons they used were simple threshold neurons which they named it Perceptorn.\n",
    "#### ------------------------------"
   ]
  },
  {
   "cell_type": "markdown",
   "metadata": {},
   "source": [
    "![](../Pictures/Capture7.PNG)"
   ]
  },
  {
   "cell_type": "markdown",
   "metadata": {},
   "source": [
    "![](../Pictures/Capture8.PNG)"
   ]
  },
  {
   "cell_type": "markdown",
   "metadata": {},
   "source": [
    "![](../Pictures/Capture9.PNG)"
   ]
  },
  {
   "cell_type": "markdown",
   "metadata": {},
   "source": [
    "![](../Pictures/Capture10.PNG)"
   ]
  },
  {
   "cell_type": "markdown",
   "metadata": {},
   "source": [
    "A and B are input neurons. The red neuron is our output neuron. The threshold value is 1. If the sum of the weighted input neurons is greater than the threshold, the output is 1 else 0.\n",
    "\n",
    "![](../Pictures/Capture11.PNG)"
   ]
  },
  {
   "cell_type": "markdown",
   "metadata": {},
   "source": [
    "XOR gate requires an intermediate hidden layer to achieve the togic of a XOR date\n",
    "\n",
    "![](../Pictures/Capture12.PNG)"
   ]
  },
  {
   "cell_type": "markdown",
   "metadata": {},
   "source": [
    "[](../Pictures/Capture12.PNG%0D)"
   ]
  },
  {
   "cell_type": "markdown",
   "metadata": {},
   "source": [
    "![](../Pictures/Capture13.PNG)"
   ]
  },
  {
   "cell_type": "markdown",
   "metadata": {},
   "source": [
    "![](../Pictures/Capture14.png)"
   ]
  },
  {
   "cell_type": "markdown",
   "metadata": {},
   "source": [
    "Type of Neural Metworks\n",
    "\n",
    "Neural Networks are mainly classified into 5 types\n",
    "\n",
    "- Artificial Neural Network (Pattern Recognition) (ANN)\n",
    "- Convolution Neural Network (Image Processing) (CNN)\n",
    "- Recursive Neural Network (Speech Recongnition) (RNN)\n",
    "- Deep Neural Network (Acoustic Modeling) (DNN)\n",
    "- Deep Belief Network (Cancer Detection) (DBN)\n"
   ]
  },
  {
   "cell_type": "markdown",
   "metadata": {},
   "source": [
    "Working of Neyral Network\n",
    "\n",
    "Let's find out how an Artificail Neural Network can be used to identify different shapes like Squares, Circles and Triangles.\n",
    "\n",
    "How to identify various shapes using a neural network?\n"
   ]
  },
  {
   "cell_type": "markdown",
   "metadata": {},
   "source": [
    "![](../Pictures/Capture15.png)"
   ]
  },
  {
   "cell_type": "markdown",
   "metadata": {},
   "source": [
    "![](../Pictures/Capture16.png)"
   ]
  },
  {
   "cell_type": "markdown",
   "metadata": {},
   "source": [
    "![](../Pictures/Capture17.png)"
   ]
  },
  {
   "cell_type": "markdown",
   "metadata": {},
   "source": [
    "![](../Pictures/Capture18.png)"
   ]
  },
  {
   "cell_type": "markdown",
   "metadata": {},
   "source": [
    "![](../Pictures/Capture19.png)"
   ]
  },
  {
   "cell_type": "markdown",
   "metadata": {},
   "source": [
    "![](../Pictures/Capture20_.png)"
   ]
  },
  {
   "cell_type": "markdown",
   "metadata": {},
   "source": [
    "Neural Network use Backpropagation method along with improve the performance of the Neural Net, A cost function is used to reduce the error rate between predicted and actual out put\n",
    "\n",
    "![](../Pictures/Capture21.png)"
   ]
  },
  {
   "cell_type": "markdown",
   "metadata": {},
   "source": [
    "![](../Pictures/Capture22.png)"
   ]
  },
  {
   "cell_type": "markdown",
   "metadata": {},
   "source": [
    "Optimizetion \n",
    "\n",
    "Cost Function\n",
    "\n",
    "![](../Pictures/Capture23.png)"
   ]
  },
  {
   "cell_type": "markdown",
   "metadata": {},
   "source": [
    "![](../Pictures/Capture24.png)"
   ]
  },
  {
   "cell_type": "markdown",
   "metadata": {},
   "source": [
    "![](../Pictures/Capture25.png)"
   ]
  },
  {
   "cell_type": "markdown",
   "metadata": {},
   "source": [
    "Introduction to TensorFlow (create by google)\n",
    "\n",
    "- TensorFlow is a Deep Learning tool to define and run computations involving tensors. \n",
    "- A tensor is a deneralization of vectors and matrices to potentially higher dimensions. \n",
    "- The array of data passed in each layer of nodes is known as Tensor.\n",
    "\n",
    "-------------------\n",
    "Example\n",
    " - Tensor of Dimensions[5] (List)\n",
    " - Tensor of Dimensions[3,3,3] (Cube)\n",
    " - Tensor of Dimensions[5,4] (Table)"
   ]
  },
  {
   "cell_type": "markdown",
   "metadata": {},
   "source": [
    "![](../Pictures/Capture26.png)"
   ]
  },
  {
   "cell_type": "markdown",
   "metadata": {},
   "source": [
    "Tensor Ranks\n",
    "- Ranks0 = [107]\n",
    "- Ranke1 = [10,20,30]\n",
    "- Ranke2 = [1,2,3],[4,5,6]\n",
    "- Ranke3 = [[[1],[2]],[[3],[4]]]"
   ]
  },
  {
   "cell_type": "markdown",
   "metadata": {},
   "source": [
    "Introduction to TensorFlow\n",
    "- Most popular library in Deep Learning\n",
    "- Open source software library developed by google\n",
    "- Can run on either CPU or GPU\n",
    "- Can create data flow graphs that have nodes and edges\n",
    "- Used for Machine Learning applications such as Neural Networks"
   ]
  },
  {
   "cell_type": "markdown",
   "metadata": {},
   "source": [
    "Use case Implementation using TensorFlow\n",
    "\n",
    "Lets build a neural network to identify hand written digits using MNIST Database\n",
    "\n",
    "Modified National Institute of Standards and Technology Database\n",
    "\n",
    "Has a collection of 70,000 handwritten digits\n",
    "\n",
    "Digit labels identify each of the digits from 0 to 9"
   ]
  },
  {
   "cell_type": "markdown",
   "metadata": {},
   "source": [
    "![](../Pictures/Capture27.png)"
   ]
  },
  {
   "cell_type": "code",
   "execution_count": 7,
   "metadata": {},
   "outputs": [
    {
     "ename": "ModuleNotFoundError",
     "evalue": "No module named 'tensorflow.g3doc'",
     "output_type": "error",
     "traceback": [
      "\u001b[1;31m---------------------------------------------------------------------------\u001b[0m",
      "\u001b[1;31mModuleNotFoundError\u001b[0m                       Traceback (most recent call last)",
      "Cell \u001b[1;32mIn [7], line 1\u001b[0m\n\u001b[1;32m----> 1\u001b[0m \u001b[39mfrom\u001b[39;00m \u001b[39mtensorflow\u001b[39;00m\u001b[39m.\u001b[39;00m\u001b[39mg3doc\u001b[39;00m\u001b[39m.\u001b[39;00m\u001b[39mtutorials\u001b[39;00m\u001b[39m.\u001b[39;00m\u001b[39mmnist\u001b[39;00m \u001b[39mimport\u001b[39;00m input_data\n\u001b[0;32m      2\u001b[0m \u001b[39mfrom\u001b[39;00m \u001b[39mtensorflow\u001b[39;00m\u001b[39m.\u001b[39;00m\u001b[39mg3doc\u001b[39;00m\u001b[39m.\u001b[39;00m\u001b[39mtutorials\u001b[39;00m\u001b[39m.\u001b[39;00m\u001b[39mmnist\u001b[39;00m \u001b[39mimport\u001b[39;00m mnist\n",
      "\u001b[1;31mModuleNotFoundError\u001b[0m: No module named 'tensorflow.g3doc'"
     ]
    }
   ],
   "source": [
    "from tensorflow.g3doc.tutorials.mnist import input_data\n",
    "from tensorflow.g3doc.tutorials.mnist import mnist"
   ]
  },
  {
   "cell_type": "code",
   "execution_count": 8,
   "metadata": {},
   "outputs": [
    {
     "ename": "ModuleNotFoundError",
     "evalue": "No module named 'tensorflow_datasets'",
     "output_type": "error",
     "traceback": [
      "\u001b[1;31m---------------------------------------------------------------------------\u001b[0m",
      "\u001b[1;31mModuleNotFoundError\u001b[0m                       Traceback (most recent call last)",
      "Cell \u001b[1;32mIn [8], line 1\u001b[0m\n\u001b[1;32m----> 1\u001b[0m \u001b[39mimport\u001b[39;00m \u001b[39mtensorflow_datasets\u001b[39;00m \u001b[39mas\u001b[39;00m \u001b[39mtfds\u001b[39;00m\n",
      "\u001b[1;31mModuleNotFoundError\u001b[0m: No module named 'tensorflow_datasets'"
     ]
    }
   ],
   "source": [
    "import tensorflow_datasets as tfds"
   ]
  },
  {
   "cell_type": "code",
   "execution_count": 11,
   "metadata": {},
   "outputs": [
    {
     "ename": "ModuleNotFoundError",
     "evalue": "No module named 'tensorflow_examples'",
     "output_type": "error",
     "traceback": [
      "\u001b[1;31m---------------------------------------------------------------------------\u001b[0m",
      "\u001b[1;31mModuleNotFoundError\u001b[0m                       Traceback (most recent call last)",
      "Cell \u001b[1;32mIn [11], line 2\u001b[0m\n\u001b[0;32m      1\u001b[0m \u001b[39mimport\u001b[39;00m \u001b[39mtensorflow\u001b[39;00m \u001b[39mas\u001b[39;00m \u001b[39mtf\u001b[39;00m\n\u001b[1;32m----> 2\u001b[0m \u001b[39mfrom\u001b[39;00m \u001b[39mtensorflow_examples\u001b[39;00m\u001b[39m.\u001b[39;00m\u001b[39mmodels\u001b[39;00m\u001b[39m.\u001b[39;00m\u001b[39mpix2pix\u001b[39;00m \u001b[39mimport\u001b[39;00m pix2pix\n",
      "\u001b[1;31mModuleNotFoundError\u001b[0m: No module named 'tensorflow_examples'"
     ]
    }
   ],
   "source": [
    "import tensorflow as tf\n",
    "from tensorflow_examples.models.pix2pix import pix2pix"
   ]
  },
  {
   "cell_type": "code",
   "execution_count": 13,
   "metadata": {},
   "outputs": [
    {
     "ename": "ModuleNotFoundError",
     "evalue": "No module named 'tensorflow_datasets'",
     "output_type": "error",
     "traceback": [
      "\u001b[1;31m---------------------------------------------------------------------------\u001b[0m",
      "\u001b[1;31mModuleNotFoundError\u001b[0m                       Traceback (most recent call last)",
      "Cell \u001b[1;32mIn [13], line 2\u001b[0m\n\u001b[0;32m      1\u001b[0m \u001b[39mimport\u001b[39;00m \u001b[39mtensorflow\u001b[39;00m \u001b[39mas\u001b[39;00m \u001b[39mtf\u001b[39;00m\n\u001b[1;32m----> 2\u001b[0m \u001b[39mimport\u001b[39;00m \u001b[39mtensorflow_datasets\u001b[39;00m\n\u001b[0;32m      3\u001b[0m mnist \u001b[39m=\u001b[39m tensorflow_datasets\u001b[39m.\u001b[39mload(\u001b[39m'\u001b[39m\u001b[39mmnist\u001b[39m\u001b[39m'\u001b[39m)\n",
      "\u001b[1;31mModuleNotFoundError\u001b[0m: No module named 'tensorflow_datasets'"
     ]
    }
   ],
   "source": [
    "import tensorflow as tf\n",
    "import tensorflow_datasets\n",
    "mnist = tensorflow_datasets.load('mnist')"
   ]
  },
  {
   "cell_type": "markdown",
   "metadata": {},
   "source": []
  },
  {
   "cell_type": "markdown",
   "metadata": {},
   "source": []
  },
  {
   "cell_type": "markdown",
   "metadata": {},
   "source": []
  }
 ],
 "metadata": {
  "kernelspec": {
   "display_name": "Python 3.9.13 64-bit",
   "language": "python",
   "name": "python3"
  },
  "language_info": {
   "codemirror_mode": {
    "name": "ipython",
    "version": 3
   },
   "file_extension": ".py",
   "mimetype": "text/x-python",
   "name": "python",
   "nbconvert_exporter": "python",
   "pygments_lexer": "ipython3",
   "version": "3.9.13"
  },
  "orig_nbformat": 4,
  "vscode": {
   "interpreter": {
    "hash": "5addf786bcd861d1ce5006f23111f8cbb206731e5b61b0a5632ba9e0252558a8"
   }
  }
 },
 "nbformat": 4,
 "nbformat_minor": 2
}
