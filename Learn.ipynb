{
 "cells": [
  {
   "cell_type": "code",
   "execution_count": 1,
   "metadata": {},
   "outputs": [],
   "source": [
    "import pandas as pd\n",
    "import numpy as np "
   ]
  },
  {
   "cell_type": "markdown",
   "metadata": {},
   "source": [
    "### What is Deep Learning ?\n",
    "\n",
    "#### Deep learning is a subset of Machine Learning that has network which are cappable of learning from data that is unstructured or unlabeled and \n",
    "#### work similar to the functioning of a human brain. \n",
    "#### ------------------------------"
   ]
  },
  {
   "cell_type": "markdown",
   "metadata": {},
   "source": [
    "AI : Abilirt of a machine to imitate interligent human behavior\n",
    "\n",
    "ML : Application of AI that allows a system to automatically learn and improve from experience\n",
    "\n",
    "DL : Applocation of ML that uess complex algorithms and deep neural nets to train a model\n",
    "\n",
    "#### ------------------------------"
   ]
  },
  {
   "cell_type": "markdown",
   "metadata": {},
   "source": [
    "Why do we need Deep Learning ?\n",
    "\n",
    "-Works with unstructured data \n",
    "\n",
    "-Handle complex operations\n",
    "\n",
    "-Feature Extranction\n",
    "\n",
    "-Achieve best performance\n",
    "\n",
    "#### ------------------------------"
   ]
  },
  {
   "cell_type": "markdown",
   "metadata": {},
   "source": [
    "What is a Neural Network ?\n",
    "\n",
    "Neural Netwotks are modeled after biological neural networks that allow computers to learn and interact like humans do. It has interconnected neurons with dendrites that receive input, and based on those input, it produces an electric signal i.e. output through the axon.\n",
    "\n",
    "Neural Network has interconnected neurons that receive some inputs, processes those inputs in layers to produce the output.\n",
    "#### ------------------------------"
   ]
  },
  {
   "cell_type": "markdown",
   "metadata": {},
   "source": [
    "![](../Pictures/Capture.png)"
   ]
  },
  {
   "cell_type": "markdown",
   "metadata": {},
   "source": [
    "What is a Perceptron ?\n",
    "\n",
    "A Perceptron is the best basic part of a neural network. It represents a single neuron of a human brain and is used for binary classifiers."
   ]
  },
  {
   "cell_type": "markdown",
   "metadata": {},
   "source": [
    "![](../Pictures/Capture1.PNG)"
   ]
  },
  {
   "cell_type": "markdown",
   "metadata": {},
   "source": [
    "Input are multiplied with the weights and a summation is performed, plus a bias is added.\n",
    "\n",
    "![](../Pictures/Capture3.PNG)"
   ]
  },
  {
   "cell_type": "markdown",
   "metadata": {},
   "source": [
    "The weighted sum of input is passed to an activation function to datermine if a neuron will fire or not.\n",
    "\n",
    "![](../Pictures/Capture4.PNG)"
   ]
  },
  {
   "cell_type": "markdown",
   "metadata": {},
   "source": [
    "Perceptron receives input signals and if the sum of the input signals exceeds a certain threshold value, it either outputs a signal or does not return an output.\n",
    "\n",
    "![](../Pictures/Capture5.PNG)"
   ]
  },
  {
   "cell_type": "markdown",
   "metadata": {},
   "source": [
    "The error in the output is backpropagated and weights are updated to minimize the error.\n",
    "\n",
    "![](../Pictures/Capture6.PNG)"
   ]
  },
  {
   "cell_type": "markdown",
   "metadata": {},
   "source": [
    "Repeat steps 1 to 4 in order to generate the desired output"
   ]
  },
  {
   "cell_type": "markdown",
   "metadata": {},
   "source": [
    "Implementing logic gates using perceptron.\n",
    "\n",
    "In 1943, neuroscientist Warren McCulloch and logician Walter Pitts published a paper showing how neurons could implement the three logical functions(AND , OR, XOR). The neurons they used were simple threshold neurons which they named it Perceptorn.\n",
    "#### ------------------------------"
   ]
  },
  {
   "cell_type": "markdown",
   "metadata": {},
   "source": [
    "![](../Pictures/Capture7.PNG)"
   ]
  },
  {
   "cell_type": "markdown",
   "metadata": {},
   "source": [
    "![](../Pictures/Capture8.PNG)"
   ]
  },
  {
   "cell_type": "markdown",
   "metadata": {},
   "source": [
    "![](../Pictures/Capture9.PNG)"
   ]
  },
  {
   "cell_type": "markdown",
   "metadata": {},
   "source": [
    "![](../Pictures/Capture10.PNG)"
   ]
  },
  {
   "cell_type": "markdown",
   "metadata": {},
   "source": [
    "A and B are input neurons. The red neuron is our output neuron. The threshold value is 1. If the sum of the weighted input neurons is greater than the threshold, the output is 1 else 0.\n",
    "\n",
    "![](../Pictures/Capture11.PNG)"
   ]
  },
  {
   "cell_type": "markdown",
   "metadata": {},
   "source": [
    "![](../Pictures/Capture12.PNG)"
   ]
  },
  {
   "cell_type": "markdown",
   "metadata": {},
   "source": [
    "[](../Pictures/Capture12.PNG%0D)"
   ]
  },
  {
   "cell_type": "markdown",
   "metadata": {},
   "source": [
    "![](../Pictures/Capture13.PNG)"
   ]
  },
  {
   "cell_type": "markdown",
   "metadata": {},
   "source": []
  },
  {
   "cell_type": "markdown",
   "metadata": {},
   "source": []
  },
  {
   "cell_type": "markdown",
   "metadata": {},
   "source": []
  },
  {
   "cell_type": "markdown",
   "metadata": {},
   "source": []
  },
  {
   "cell_type": "markdown",
   "metadata": {},
   "source": []
  },
  {
   "cell_type": "markdown",
   "metadata": {},
   "source": []
  },
  {
   "cell_type": "markdown",
   "metadata": {},
   "source": []
  },
  {
   "cell_type": "markdown",
   "metadata": {},
   "source": []
  }
 ],
 "metadata": {
  "kernelspec": {
   "display_name": "Python 3.9.13 64-bit",
   "language": "python",
   "name": "python3"
  },
  "language_info": {
   "codemirror_mode": {
    "name": "ipython",
    "version": 3
   },
   "file_extension": ".py",
   "mimetype": "text/x-python",
   "name": "python",
   "nbconvert_exporter": "python",
   "pygments_lexer": "ipython3",
   "version": "3.9.13"
  },
  "orig_nbformat": 4,
  "vscode": {
   "interpreter": {
    "hash": "5addf786bcd861d1ce5006f23111f8cbb206731e5b61b0a5632ba9e0252558a8"
   }
  }
 },
 "nbformat": 4,
 "nbformat_minor": 2
}
