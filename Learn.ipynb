{
 "cells": [
  {
   "cell_type": "code",
   "execution_count": 1,
   "metadata": {},
   "outputs": [],
   "source": [
    "import pandas as pd\n",
    "import numpy as np "
   ]
  },
  {
   "cell_type": "code",
   "execution_count": null,
   "metadata": {},
   "outputs": [],
   "source": []
  },
  {
   "cell_type": "markdown",
   "metadata": {},
   "source": [
    "### What is Deep Learning ?\n",
    "\n",
    "#### Deep learning is a subset of Machine Learning that has network which are cappable of learning from data that is unstructured or unlabeled and \n",
    "#### work similar to the functioning of a human brain. \n",
    "#### ------------------------------"
   ]
  },
  {
   "cell_type": "markdown",
   "metadata": {},
   "source": [
    "AI : Abilirt of a machine to imitate interligent human behavior\n",
    "\n",
    "ML : Application of AI that allows a system to automatically learn and improve from experience\n",
    "\n",
    "DL : Applocation of ML that uess complex algorithms and deep neural nets to train a model\n",
    "\n",
    "#### ------------------------------"
   ]
  },
  {
   "cell_type": "markdown",
   "metadata": {},
   "source": [
    "Why do we need Deep Learning ?\n",
    "\n",
    "-Works with unstructured data \n",
    "\n",
    "-Handle complex operations\n",
    "\n",
    "-Feature Extranction\n",
    "\n",
    "-Achieve best performance\n",
    "\n",
    "#### ------------------------------"
   ]
  },
  {
   "cell_type": "markdown",
   "metadata": {},
   "source": [
    "What is a Neural Network ?\n",
    "\n",
    "Neural Netwotks are modeled after biological neural networks that allow computers to learn and interact like humans do. It has interconnected neurons with dendrites that receive input, and based on those input, it produces an electric signal i.e. output through the axon.\n",
    "\n",
    "Neural Network has interconnected neurons that receive some inputs, processes those inputs in layers to produce the output.\n",
    "#### ------------------------------"
   ]
  },
  {
   "cell_type": "markdown",
   "metadata": {},
   "source": [
    "![](../Capture.PNG)"
   ]
  },
  {
   "cell_type": "markdown",
   "metadata": {},
   "source": [
    "Dendrites -- Inputs"
   ]
  },
  {
   "cell_type": "markdown",
   "metadata": {},
   "source": [
    "![Getting Started](../Pictures/Capture1.PNG)"
   ]
  },
  {
   "cell_type": "markdown",
   "metadata": {},
   "source": []
  }
 ],
 "metadata": {
  "kernelspec": {
   "display_name": "Python 3.9.13 64-bit",
   "language": "python",
   "name": "python3"
  },
  "language_info": {
   "codemirror_mode": {
    "name": "ipython",
    "version": 3
   },
   "file_extension": ".py",
   "mimetype": "text/x-python",
   "name": "python",
   "nbconvert_exporter": "python",
   "pygments_lexer": "ipython3",
   "version": "3.9.13"
  },
  "orig_nbformat": 4,
  "vscode": {
   "interpreter": {
    "hash": "5addf786bcd861d1ce5006f23111f8cbb206731e5b61b0a5632ba9e0252558a8"
   }
  }
 },
 "nbformat": 4,
 "nbformat_minor": 2
}
